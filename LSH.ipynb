{
 "cells": [
  {
   "cell_type": "code",
   "execution_count": 1,
   "metadata": {},
   "outputs": [],
   "source": [
    "import numpy as np\n",
    "import pandas as pd\n",
    "import json\n",
    "from nltk import ngrams\n",
    "import string\n",
    "import random\n",
    "import matplotlib as plt\n",
    "from itertools import combinations\n",
    "import csv"
   ]
  },
  {
   "cell_type": "code",
   "execution_count": 2,
   "metadata": {},
   "outputs": [],
   "source": [
    "#The data file couldn't be checked into github because it is too large instead it must be downloaded here https://www.ux.uis.no/~vsetty/data/assignment2_aricles.json\n",
    "datafile =  'data/assignment2_aricles.json'"
   ]
  },
  {
   "cell_type": "code",
   "execution_count": 3,
   "metadata": {},
   "outputs": [],
   "source": [
    "articles = pd.read_json(datafile, orient='records', encoding=\"utf-8\")"
   ]
  },
  {
   "cell_type": "markdown",
   "metadata": {},
   "source": [
    "## Tips: \n",
    "\n",
    "* Use string package to cleanup the articles e.g, str.maketrans('', '', string.punctuation)\n",
    "* It is better to convert text to lower case that way you get fewer n-grams\n",
    "* apply ngrams(x.split(), n) using ngrams from nltk on the content + title for computing n-grams, for this data n = 2 is suffcient"
   ]
  },
  {
   "cell_type": "code",
   "execution_count": 4,
   "metadata": {},
   "outputs": [],
   "source": [
    "#You can use n-gram at word level for this task\n",
    "#try with different n-gram values \n",
    "# You can use ngrams from nltk for this\n",
    "\n",
    "def pre_process(text , n):\n",
    "    \n",
    "    text = text.translate(str.maketrans(string.punctuation, ' '*len(string.punctuation)))\n",
    "    text = text.strip().replace('\\n', ' ').lower()\n",
    "    shingles = list(ngrams(text.split(), n))\n",
    "    \n",
    "    return shingles\n",
    "\n",
    "def getNgrams(articles ,n):\n",
    "    \n",
    "    docs = []\n",
    "    for i in range(len(articles)):\n",
    "        \n",
    "        A = pre_process((articles.iloc[i]['Title']) ,n)\n",
    "        B = pre_process((articles.iloc[i]['Content']), n) \n",
    "        docs.append(A + B)\n",
    "        \n",
    "    return docs\n",
    "    "
   ]
  },
  {
   "cell_type": "code",
   "execution_count": 5,
   "metadata": {},
   "outputs": [],
   "source": [
    "# First we create n-grams for each article in the .json file\n",
    "\n",
    "docs = getNgrams(articles ,2)"
   ]
  },
  {
   "cell_type": "code",
   "execution_count": 6,
   "metadata": {},
   "outputs": [],
   "source": [
    "# This block create a set out of all unique shingles in all articles and save it to a variable named \"terms\"\n",
    "\n",
    "terms = set()\n",
    "for i in range(len(docs)): \n",
    "    terms.update(set(docs[i]))"
   ]
  },
  {
   "cell_type": "code",
   "execution_count": 7,
   "metadata": {
    "scrolled": true
   },
   "outputs": [],
   "source": [
    "# In this block of code I create a dictionary out of all shingles in the tesrms set. The keys of the dictionary are terms\n",
    "# themselves and the corresponding values are their row indexes. Then for each specific term I can get their row index. \n",
    "\n",
    "def convert_set_2_dict(union_shingles):\n",
    "    \n",
    "    union_shingles_dict = dict()\n",
    "    for i, j in enumerate(union_shingles):\n",
    "        union_shingles_dict[j] = i\n",
    "        \n",
    "    return union_shingles_dict"
   ]
  },
  {
   "cell_type": "code",
   "execution_count": 8,
   "metadata": {},
   "outputs": [],
   "source": [
    "union_shingles_dict = convert_set_2_dict(terms)"
   ]
  },
  {
   "cell_type": "code",
   "execution_count": 10,
   "metadata": {
    "scrolled": true
   },
   "outputs": [
    {
     "name": "stdout",
     "output_type": "stream",
     "text": [
      "3188968\n"
     ]
    }
   ],
   "source": [
    "# We can see the number of unique 2-shingles below\n",
    "\n",
    "print(len(union_shingles_dict))"
   ]
  },
  {
   "cell_type": "markdown",
   "metadata": {},
   "source": [
    "## Convert n-grams into binary vector representation for each document. You can do some optimzations if the matrix is too big.\n",
    "For example, \n",
    "* Select top 10000 most frequent n-grams.\n",
    "* You may also try smaller values of n (like 2 or 3) which result in fewer n-grams.\n",
    "* Finally, you can also try sparse matrix representation. Like csr_matrix from  scipy.sparse. It works even with full vocabulary.\n",
    "    * Given a list of n-grams for each document, see how to builid a sparse matrix here https://docs.scipy.org/doc/scipy/reference/generated/scipy.sparse.csr_matrix.html"
   ]
  },
  {
   "cell_type": "markdown",
   "metadata": {},
   "source": [
    "**Explanation:** My implementation of getBinaryMatrix may differ to the proposed way above. Instead of creating a very sparse \n",
    "matrix due to the large number of terms and documents and then ran out of memory and seeking for a way for limitting\n",
    "the top shingles of make use of scipy.sparse matrix , I created a dictionary which for each article  in my docs file,\n",
    "it stores a list of corresponding row indexes which is extracted from unique_shingles_dict created in the previous code\n",
    "block. By this way there is no need for storing too many zeros. Then in the upcomming sections I will hash these row \n",
    "indexes. With this methodology I was able to utilize all shigles without needing for limitting them. "
   ]
  },
  {
   "cell_type": "code",
   "execution_count": 16,
   "metadata": {},
   "outputs": [],
   "source": [
    "def getBinaryMatrix(docs , union_shingles_dict):\n",
    "    \n",
    "    d = {}\n",
    "    \n",
    "    for i, doc in enumerate(docs):\n",
    "        idxs = []\n",
    "            \n",
    "        for word in doc:\n",
    "            idx = union_shingles_dict[word]\n",
    "            idxs.append(idx)\n",
    "        \n",
    "        d[i] = idxs\n",
    "        \n",
    "    return d    \n",
    "    \n",
    "    #return binary dictionary"
   ]
  },
  {
   "cell_type": "code",
   "execution_count": 13,
   "metadata": {},
   "outputs": [],
   "source": [
    "binary_dict = getBinaryMatrix(docs , union_shingles_dict)"
   ]
  },
  {
   "cell_type": "code",
   "execution_count": 15,
   "metadata": {},
   "outputs": [
    {
     "data": {
      "text/plain": [
       "48505"
      ]
     },
     "execution_count": 15,
     "metadata": {},
     "output_type": "execute_result"
    }
   ],
   "source": [
    "# check if the number of dictionary keys is equal to the number of true articles \n",
    "\n",
    "number_docs = len(list(binary_dict.keys()))\n",
    "number_docs"
   ]
  },
  {
   "cell_type": "markdown",
   "metadata": {},
   "source": [
    "## We need hash function that maps integers 0, 1, . . . , k − 1 to bucket numbers 0 through k − 1. It might be impossible to avoid collisions but as long as the collions are too many it won't matter much.\n",
    "\n",
    "* The simplest would be using the builtin hash() function, it can be for example, hash(rownumber) % Numberofbuckets\n",
    "* You can generate several of these hash functions by xoring a random integer (hash(rownumber)^randint) % Numberofbuckets\n",
    "* It can also be a as simple as (rownumber * randint) % Numberofbuckets"
   ]
  },
  {
   "cell_type": "markdown",
   "metadata": {},
   "source": [
    "**Explanation:** In this section I have implemented a hash function based on the proposed method in the Mining of Massive Datasets book, Chapter 3. For creating hash functions that map integer numbers in to distinct buckets  I used   (Ax + B)% numberofBuckets . The value of numberOfBuckets is the first prime number after the number of distinct buckets, in our case the number of rows. Thats why I chose 3188981 as an argument in my function because I have 3188968 distinct row indexes to be hashed in to buckets. Based on the number of chosen hash functions in order to create signature matrix, the pickRandomCoeffs would pick random coefficients for A and B for each hash function. "
   ]
  },
  {
   "cell_type": "code",
   "execution_count": 17,
   "metadata": {},
   "outputs": [],
   "source": [
    "def pickRandomCoeffs(k , numrows):\n",
    "    \n",
    "    randList = []\n",
    "  \n",
    "    while k > 0:\n",
    "        randIndex = random.randint(0, numrows) \n",
    "  \n",
    "        # Ensure that each random number is unique.\n",
    "        while randIndex in randList:\n",
    "            randIndex = random.randint(0, numrows) \n",
    "    \n",
    "        # Add the random number to the list.\n",
    "        randList.append(randIndex)\n",
    "        k = k - 1\n",
    "        \n",
    "    return randList \n",
    "\n",
    "\n",
    "\n",
    "def getHashFunctionValues(numrows , numhashfunctions , nextPrime):\n",
    "    \n",
    "    coeffA = pickRandomCoeffs(numhashfunctions , numrows)\n",
    "    coeffB = pickRandomCoeffs(numhashfunctions , numrows)\n",
    "    \n",
    "    hash_values= []\n",
    "    \n",
    "    for i in range(numhashfunctions):\n",
    "        values = []\n",
    "        for j in range(numrows):\n",
    "        \n",
    "            values.append((coeffA[i] * j + coeffB[i]) % nextPrime)\n",
    "        \n",
    "        hash_values.append(values)\n",
    "        \n",
    "                \n",
    "               \n",
    "    return hash_values\n",
    "    \n",
    "    #return a matrix with hash values"
   ]
  },
  {
   "cell_type": "code",
   "execution_count": 18,
   "metadata": {},
   "outputs": [],
   "source": [
    "# number of shigles : 3188968\n",
    "# number of hash_functions : 50\n",
    "# prime number : 3188981\n",
    "\n",
    "hash_val_matrix = getHashFunctionValues(3188968 , 60 , 3188981)"
   ]
  },
  {
   "cell_type": "markdown",
   "metadata": {},
   "source": [
    "## Compute minhash following the faster algorithm from the lecture "
   ]
  },
  {
   "cell_type": "code",
   "execution_count": 19,
   "metadata": {},
   "outputs": [],
   "source": [
    "# instead of filling signature matrix with infinity in the first state of creating the matrix, I put the biggest \n",
    "# number possible which is the number of row indexes + 1. \n",
    "\n",
    "def getMinHashSignatureMatrix(binary_dict, hash_val_matrix , next_prime):\n",
    "    \n",
    "    signature = []\n",
    "    for i in range (len(hash_val_matrix)):        # loop for each hash function\n",
    "        row_signature = []\n",
    "        for j in list(binary_dict.keys()):        # loop for each article \n",
    "            \n",
    "            minHashCode = next_prime + 1\n",
    "            \n",
    "            for id in binary_dict[j]:             # loop for each hash value corresponding to each row index  \n",
    "                \n",
    "                hash_code = hash_val_matrix[i][id]\n",
    "                \n",
    "                if (hash_code < minHashCode):\n",
    "                    minHashCode = hash_code\n",
    "                    \n",
    "            row_signature.append(minHashCode)\n",
    "            \n",
    "        signature.append(row_signature)\n",
    "    \n",
    "    return signature\n",
    "    \n",
    "    #return minhash signature matrix"
   ]
  },
  {
   "cell_type": "code",
   "execution_count": 20,
   "metadata": {},
   "outputs": [],
   "source": [
    "signature_matrix = getMinHashSignatureMatrix(binary_dict, hash_val_matrix , 3188981)"
   ]
  },
  {
   "cell_type": "code",
   "execution_count": 21,
   "metadata": {},
   "outputs": [],
   "source": [
    "# deleting some unused variables in order to free the memory a little bit\n",
    "\n",
    "del docs\n",
    "del terms \n",
    "del union_shingles_dict"
   ]
  },
  {
   "cell_type": "markdown",
   "metadata": {},
   "source": [
    "## Hash signature bands into buckets. Find a way to combine all the signature values in a band and hash them into a number of buckets ususally very high.\n",
    "* Easiest way is to add all the signature values in the bucket and use a similar hash function like before\n",
    "* You should use the same hash function for all bands. And all documents ending up in same bucket for at least one band are considered as candidate pairs."
   ]
  },
  {
   "cell_type": "markdown",
   "metadata": {},
   "source": [
    "**Explanation:** After splitting the signature matrix based on the chosen number of bands, we convert each sub-column for each article in to string and hash it based on a simple hash function and create a bucket dictionary in each band. The keys for this dictionary is distinc hash values and the corresponding values are article numbers stored in a list which has the same hash values. In other words, the combinations between each pair of these article numbers are candidate pairs. The output of this function is a set named candidate pairs which is updated for each distinct candidate pairs in each loop.  "
   ]
  },
  {
   "cell_type": "code",
   "execution_count": 22,
   "metadata": {},
   "outputs": [],
   "source": [
    "def getLSH(signature_matrix, num_bands , num_buckets):\n",
    "   \n",
    "    bands = []\n",
    "\n",
    "    for i in range(0, num_bands):\n",
    "        bands.append(np.split(np.array(signature_matrix), num_bands)[i])\n",
    "    \n",
    "    buckets = {}\n",
    "    candidate_pairs = set()\n",
    "    \n",
    "    for i in range(0, len(bands)):\n",
    "        buckets = {}\n",
    "        randint = random.randint(0, 1000000)\n",
    "        for j in range(0, bands[i].shape[1]):\n",
    "            arr = str(bands[i][:,j])\n",
    "            hashes = (hash(arr)^randint) % num_buckets\n",
    "            if hashes in buckets:\n",
    "                buckets[hashes].append(j)\n",
    "            else:\n",
    "                buckets.update({hashes:[j]})\n",
    "        \n",
    "             \n",
    "        a = [list(combinations(buckets[keys] , 2)) for keys in buckets.keys() if (len(buckets[keys]) > 1)]\n",
    "        terms = set()\n",
    "        for i in range(len(a)): \n",
    "            terms.update(set(a[i]))\n",
    "        \n",
    "        candidate_pairs = ( candidate_pairs | terms )\n",
    "\n",
    "        \n",
    "    return candidate_pairs"
   ]
  },
  {
   "cell_type": "code",
   "execution_count": 25,
   "metadata": {},
   "outputs": [],
   "source": [
    "# defining a function for calculating jacard_similarity in the case we wanted to check whether the candidate pairs are \n",
    "# truely pair or not\n",
    "\n",
    "def jaccard_similarity(list1, list2):\n",
    "    intersection = len(list(set(list1).intersection(set(list2))))\n",
    "    union = (len(list1) + len(list2)) \n",
    "    return float(intersection) / union"
   ]
  },
  {
   "cell_type": "markdown",
   "metadata": {},
   "source": [
    "## Tune parameters to make sure the threshold is appropriate.\n",
    "## plot the probability of two similar items falling in same bucket for different threshold values\n"
   ]
  },
  {
   "cell_type": "code",
   "execution_count": 23,
   "metadata": {},
   "outputs": [
    {
     "data": {
      "image/png": "[encoded data removed]",
      "text/plain": [
       "<Figure size 720x504 with 1 Axes>"
      ]
     },
     "metadata": {
      "needs_background": "light"
     },
     "output_type": "display_data"
    }
   ],
   "source": [
    "df = pd.DataFrame(data=[(2, 30), (30, 2), (3, 20), (20, 3), (4, 15), (15, 4), (5, 12), (12, 5), (6, 10), (10, 6)], columns=['b', 'r'])\n",
    "df['h'] = df['b'] * df['r']\n",
    "for pr in np.linspace(0, 1, 200):\n",
    "    df[pr] = 1 - (1 - pr**df['r']) ** df['b']\n",
    "df = pd.pivot_table(df, index=['h','b', 'r'])\n",
    "ax = df.T.plot(figsize=(10, 7), title='Probability of two similar items falling in same bucket');"
   ]
  },
  {
   "cell_type": "markdown",
   "metadata": {},
   "source": [
    "## Choose the best parameters and get nearest neighbors of each articles"
   ]
  },
  {
   "cell_type": "markdown",
   "metadata": {},
   "source": [
    "**Exlanation:** Based on the tuning plot above we can conclude that in order to get the nearest neighbor for each article \n",
    "I chose 12 as the total number of bands for the total of 60 distinct hash functions. which is 5 rows per band. I chose a very big number for the total number of buckets in order to ensure that candidate pairs are placed in the similar bucket. "
   ]
  },
  {
   "cell_type": "code",
   "execution_count": 24,
   "metadata": {},
   "outputs": [],
   "source": [
    "bands = getLSH(signature_matrix , 12 , 10000000000000)"
   ]
  },
  {
   "cell_type": "markdown",
   "metadata": {},
   "source": [
    "## Write the nearest neibhors of each document to submissions.csv (comma separated, first column is the current document followed by a list of nearest neighbors) file and get the score"
   ]
  },
  {
   "cell_type": "code",
   "execution_count": 26,
   "metadata": {},
   "outputs": [],
   "source": [
    "def createSubmission(candidate_pairs , total_lines):\n",
    "    \n",
    "    with open(\"./submissions.csv\", 'w', newline='') as myfile:\n",
    "        wr = csv.writer(myfile)\n",
    "        \n",
    "        for i in range(total_lines):\n",
    "            line = []\n",
    "            line.append(int(i))\n",
    "\n",
    "            for item in candidate_pairs :\n",
    "\n",
    "                if i == item[0] :\n",
    "\n",
    "                    line.append(int(item[1])) \n",
    "\n",
    "                elif i == item[1] :\n",
    "\n",
    "                    line.append(int(item[0]))\n",
    "\n",
    "                else :\n",
    "                    continue \n",
    "            \n",
    "            wr.writerow(line)       \n",
    "    "
   ]
  },
  {
   "cell_type": "code",
   "execution_count": null,
   "metadata": {},
   "outputs": [],
   "source": [
    "createSubmission(bands , number_docs) "
   ]
  }
 ],
 "metadata": {
  "kernelspec": {
   "display_name": "Python 3",
   "language": "python",
   "name": "python3"
  },
  "language_info": {
   "codemirror_mode": {
    "name": "ipython",
    "version": 3
   },
   "file_extension": ".py",
   "mimetype": "text/x-python",
   "name": "python",
   "nbconvert_exporter": "python",
   "pygments_lexer": "ipython3",
   "version": "3.8.5"
  }
 },
 "nbformat": 4,
 "nbformat_minor": 2
}
